{
 "cells": [
  {
   "cell_type": "code",
   "execution_count": 1,
   "metadata": {},
   "outputs": [],
   "source": [
    "import pandas as pd"
   ]
  },
  {
   "cell_type": "code",
   "execution_count": 3,
   "metadata": {},
   "outputs": [],
   "source": [
    "url = \"https://www.pro-football-reference.com/leaders/pass_rating_career.htm\""
   ]
  },
  {
   "cell_type": "code",
   "execution_count": 14,
   "metadata": {},
   "outputs": [
    {
     "data": {
      "text/plain": [
       "[      Rank           Player   Rate      Years   Tm\n",
       " 0      1.0  Patrick Mahomes  108.7  2017-2020  kan\n",
       " 1      2.0   Deshaun Watson  104.5  2017-2020  htx\n",
       " 2      3.0    Aaron Rodgers  103.9  2005-2020  gnb\n",
       " 3      4.0   Russell Wilson  101.7  2012-2020  sea\n",
       " 4      5.0       Drew Brees   98.7  2001-2020  2TM\n",
       " ..     ...              ...    ...        ...  ...\n",
       " 194  195.0        Jack Kemp   57.3  1957-1969  3TM\n",
       " 195  196.0       Tobin Rote   56.8  1950-1966  4TM\n",
       " 196  197.0  Cotton Davidson   54.9  1954-1968  3TM\n",
       " 197  198.0      Mike Phipps   52.6  1970-1981  2TM\n",
       " 198  199.0   Frank Tripucka   52.2  1949-1963  4TM\n",
       " \n",
       " [199 rows x 5 columns]]"
      ]
     },
     "execution_count": 14,
     "metadata": {},
     "output_type": "execute_result"
    }
   ],
   "source": [
    "passer_rating = pd.read_html(url)\n",
    "passer_rating"
   ]
  },
  {
   "cell_type": "code",
   "execution_count": 15,
   "metadata": {},
   "outputs": [
    {
     "data": {
      "text/html": [
       "<div>\n",
       "<style scoped>\n",
       "    .dataframe tbody tr th:only-of-type {\n",
       "        vertical-align: middle;\n",
       "    }\n",
       "\n",
       "    .dataframe tbody tr th {\n",
       "        vertical-align: top;\n",
       "    }\n",
       "\n",
       "    .dataframe thead th {\n",
       "        text-align: right;\n",
       "    }\n",
       "</style>\n",
       "<table border=\"1\" class=\"dataframe\">\n",
       "  <thead>\n",
       "    <tr style=\"text-align: right;\">\n",
       "      <th></th>\n",
       "      <th>Rank</th>\n",
       "      <th>Player</th>\n",
       "      <th>Rate</th>\n",
       "      <th>Years</th>\n",
       "      <th>Tm</th>\n",
       "    </tr>\n",
       "  </thead>\n",
       "  <tbody>\n",
       "    <tr>\n",
       "      <th>0</th>\n",
       "      <td>1.0</td>\n",
       "      <td>Patrick Mahomes</td>\n",
       "      <td>108.7</td>\n",
       "      <td>2017-2020</td>\n",
       "      <td>kan</td>\n",
       "    </tr>\n",
       "    <tr>\n",
       "      <th>1</th>\n",
       "      <td>2.0</td>\n",
       "      <td>Deshaun Watson</td>\n",
       "      <td>104.5</td>\n",
       "      <td>2017-2020</td>\n",
       "      <td>htx</td>\n",
       "    </tr>\n",
       "    <tr>\n",
       "      <th>2</th>\n",
       "      <td>3.0</td>\n",
       "      <td>Aaron Rodgers</td>\n",
       "      <td>103.9</td>\n",
       "      <td>2005-2020</td>\n",
       "      <td>gnb</td>\n",
       "    </tr>\n",
       "    <tr>\n",
       "      <th>3</th>\n",
       "      <td>4.0</td>\n",
       "      <td>Russell Wilson</td>\n",
       "      <td>101.7</td>\n",
       "      <td>2012-2020</td>\n",
       "      <td>sea</td>\n",
       "    </tr>\n",
       "    <tr>\n",
       "      <th>4</th>\n",
       "      <td>5.0</td>\n",
       "      <td>Drew Brees</td>\n",
       "      <td>98.7</td>\n",
       "      <td>2001-2020</td>\n",
       "      <td>2TM</td>\n",
       "    </tr>\n",
       "    <tr>\n",
       "      <th>...</th>\n",
       "      <td>...</td>\n",
       "      <td>...</td>\n",
       "      <td>...</td>\n",
       "      <td>...</td>\n",
       "      <td>...</td>\n",
       "    </tr>\n",
       "    <tr>\n",
       "      <th>194</th>\n",
       "      <td>195.0</td>\n",
       "      <td>Jack Kemp</td>\n",
       "      <td>57.3</td>\n",
       "      <td>1957-1969</td>\n",
       "      <td>3TM</td>\n",
       "    </tr>\n",
       "    <tr>\n",
       "      <th>195</th>\n",
       "      <td>196.0</td>\n",
       "      <td>Tobin Rote</td>\n",
       "      <td>56.8</td>\n",
       "      <td>1950-1966</td>\n",
       "      <td>4TM</td>\n",
       "    </tr>\n",
       "    <tr>\n",
       "      <th>196</th>\n",
       "      <td>197.0</td>\n",
       "      <td>Cotton Davidson</td>\n",
       "      <td>54.9</td>\n",
       "      <td>1954-1968</td>\n",
       "      <td>3TM</td>\n",
       "    </tr>\n",
       "    <tr>\n",
       "      <th>197</th>\n",
       "      <td>198.0</td>\n",
       "      <td>Mike Phipps</td>\n",
       "      <td>52.6</td>\n",
       "      <td>1970-1981</td>\n",
       "      <td>2TM</td>\n",
       "    </tr>\n",
       "    <tr>\n",
       "      <th>198</th>\n",
       "      <td>199.0</td>\n",
       "      <td>Frank Tripucka</td>\n",
       "      <td>52.2</td>\n",
       "      <td>1949-1963</td>\n",
       "      <td>4TM</td>\n",
       "    </tr>\n",
       "  </tbody>\n",
       "</table>\n",
       "<p>199 rows × 5 columns</p>\n",
       "</div>"
      ],
      "text/plain": [
       "      Rank           Player   Rate      Years   Tm\n",
       "0      1.0  Patrick Mahomes  108.7  2017-2020  kan\n",
       "1      2.0   Deshaun Watson  104.5  2017-2020  htx\n",
       "2      3.0    Aaron Rodgers  103.9  2005-2020  gnb\n",
       "3      4.0   Russell Wilson  101.7  2012-2020  sea\n",
       "4      5.0       Drew Brees   98.7  2001-2020  2TM\n",
       "..     ...              ...    ...        ...  ...\n",
       "194  195.0        Jack Kemp   57.3  1957-1969  3TM\n",
       "195  196.0       Tobin Rote   56.8  1950-1966  4TM\n",
       "196  197.0  Cotton Davidson   54.9  1954-1968  3TM\n",
       "197  198.0      Mike Phipps   52.6  1970-1981  2TM\n",
       "198  199.0   Frank Tripucka   52.2  1949-1963  4TM\n",
       "\n",
       "[199 rows x 5 columns]"
      ]
     },
     "execution_count": 15,
     "metadata": {},
     "output_type": "execute_result"
    }
   ],
   "source": [
    "passer_rating_df = passer_rating[0]\n",
    "passer_rating_df"
   ]
  },
  {
   "cell_type": "code",
   "execution_count": 16,
   "metadata": {},
   "outputs": [],
   "source": [
    "# Overall touchdowns\n",
    "\n",
    "# https://www.pro-football-reference.com/leaders/pass_td_career.htm"
   ]
  },
  {
   "cell_type": "code",
   "execution_count": 17,
   "metadata": {},
   "outputs": [],
   "source": [
    "# Interception %"
   ]
  },
  {
   "cell_type": "code",
   "execution_count": 18,
   "metadata": {},
   "outputs": [],
   "source": [
    "# Yards Per Attempt"
   ]
  },
  {
   "cell_type": "code",
   "execution_count": 19,
   "metadata": {},
   "outputs": [],
   "source": [
    "# Total Passing Yards"
   ]
  },
  {
   "cell_type": "code",
   "execution_count": null,
   "metadata": {},
   "outputs": [],
   "source": [
    "# Completion %"
   ]
  }
 ],
 "metadata": {
  "kernelspec": {
   "display_name": "Python 3",
   "language": "python",
   "name": "python3"
  },
  "language_info": {
   "codemirror_mode": {
    "name": "ipython",
    "version": 3
   },
   "file_extension": ".py",
   "mimetype": "text/x-python",
   "name": "python",
   "nbconvert_exporter": "python",
   "pygments_lexer": "ipython3",
   "version": "3.8.3"
  }
 },
 "nbformat": 4,
 "nbformat_minor": 4
}
