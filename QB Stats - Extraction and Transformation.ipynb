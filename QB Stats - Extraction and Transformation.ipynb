{
 "cells": [
  {
   "cell_type": "code",
   "execution_count": 1,
   "metadata": {},
   "outputs": [],
   "source": [
    "# Importing Dependencies\n",
    "import pandas as pd\n",
    "from sqlalchemy import create_engine\n",
    "from SQLpass import user, password "
   ]
  },
  {
   "cell_type": "code",
   "execution_count": 2,
   "metadata": {},
   "outputs": [],
   "source": [
    "# URLs\n",
    "# Passer Rating\n",
    "url = \"https://www.pro-football-reference.com/leaders/pass_rating_career.htm\"\n",
    "# Overall touchdowns\n",
    "url2 = \"https://www.pro-football-reference.com/leaders/pass_td_career.htm\"\n",
    "# Interception %\n",
    "url3 = \"https://www.pro-football-reference.com/leaders/pass_int_perc_career.htm\"\n",
    "# Yards Per Attempt\n",
    "url4 = \"https://www.pro-football-reference.com/leaders/pass_yds_per_att_career.htm\"\n",
    "# Total Passing Yards\n",
    "url5 = \"https://www.pro-football-reference.com/leaders/pass_yds_career.htm\"\n",
    "# Completion %\n",
    "url6 = \"https://www.pro-football-reference.com/leaders/pass_cmp_perc_career.htm\""
   ]
  },
  {
   "cell_type": "markdown",
   "metadata": {},
   "source": [
    "### Passer Rating Table"
   ]
  },
  {
   "cell_type": "code",
   "execution_count": 3,
   "metadata": {},
   "outputs": [
    {
     "data": {
      "text/plain": [
       "[      Rank           Player   Rate      Years   Tm\n",
       " 0      1.0  Patrick Mahomes  108.7  2017-2020  kan\n",
       " 1      2.0   Deshaun Watson  104.5  2017-2020  htx\n",
       " 2      3.0    Aaron Rodgers  103.9  2005-2020  gnb\n",
       " 3      4.0   Russell Wilson  101.7  2012-2020  sea\n",
       " 4      5.0       Drew Brees   98.7  2001-2020  2TM\n",
       " ..     ...              ...    ...        ...  ...\n",
       " 194  195.0        Jack Kemp   57.3  1957-1969  3TM\n",
       " 195  196.0       Tobin Rote   56.8  1950-1966  4TM\n",
       " 196  197.0  Cotton Davidson   54.9  1954-1968  3TM\n",
       " 197  198.0      Mike Phipps   52.6  1970-1981  2TM\n",
       " 198  199.0   Frank Tripucka   52.2  1949-1963  4TM\n",
       " \n",
       " [199 rows x 5 columns]]"
      ]
     },
     "execution_count": 3,
     "metadata": {},
     "output_type": "execute_result"
    }
   ],
   "source": [
    "# Extracting table html from site using Pandas\n",
    "passer_rating = pd.read_html(url)\n",
    "passer_rating"
   ]
  },
  {
   "cell_type": "code",
   "execution_count": 4,
   "metadata": {},
   "outputs": [
    {
     "data": {
      "text/html": [
       "<div>\n",
       "<style scoped>\n",
       "    .dataframe tbody tr th:only-of-type {\n",
       "        vertical-align: middle;\n",
       "    }\n",
       "\n",
       "    .dataframe tbody tr th {\n",
       "        vertical-align: top;\n",
       "    }\n",
       "\n",
       "    .dataframe thead th {\n",
       "        text-align: right;\n",
       "    }\n",
       "</style>\n",
       "<table border=\"1\" class=\"dataframe\">\n",
       "  <thead>\n",
       "    <tr style=\"text-align: right;\">\n",
       "      <th></th>\n",
       "      <th>rank</th>\n",
       "      <th>player</th>\n",
       "      <th>passer_rating</th>\n",
       "      <th>years</th>\n",
       "      <th>tm</th>\n",
       "    </tr>\n",
       "  </thead>\n",
       "  <tbody>\n",
       "    <tr>\n",
       "      <th>0</th>\n",
       "      <td>1.0</td>\n",
       "      <td>Patrick Mahomes</td>\n",
       "      <td>108.7</td>\n",
       "      <td>2017-2020</td>\n",
       "      <td>kan</td>\n",
       "    </tr>\n",
       "    <tr>\n",
       "      <th>1</th>\n",
       "      <td>2.0</td>\n",
       "      <td>Deshaun Watson</td>\n",
       "      <td>104.5</td>\n",
       "      <td>2017-2020</td>\n",
       "      <td>htx</td>\n",
       "    </tr>\n",
       "    <tr>\n",
       "      <th>2</th>\n",
       "      <td>3.0</td>\n",
       "      <td>Aaron Rodgers</td>\n",
       "      <td>103.9</td>\n",
       "      <td>2005-2020</td>\n",
       "      <td>gnb</td>\n",
       "    </tr>\n",
       "    <tr>\n",
       "      <th>3</th>\n",
       "      <td>4.0</td>\n",
       "      <td>Russell Wilson</td>\n",
       "      <td>101.7</td>\n",
       "      <td>2012-2020</td>\n",
       "      <td>sea</td>\n",
       "    </tr>\n",
       "    <tr>\n",
       "      <th>4</th>\n",
       "      <td>5.0</td>\n",
       "      <td>Drew Brees</td>\n",
       "      <td>98.7</td>\n",
       "      <td>2001-2020</td>\n",
       "      <td>2TM</td>\n",
       "    </tr>\n",
       "    <tr>\n",
       "      <th>...</th>\n",
       "      <td>...</td>\n",
       "      <td>...</td>\n",
       "      <td>...</td>\n",
       "      <td>...</td>\n",
       "      <td>...</td>\n",
       "    </tr>\n",
       "    <tr>\n",
       "      <th>194</th>\n",
       "      <td>195.0</td>\n",
       "      <td>Jack Kemp</td>\n",
       "      <td>57.3</td>\n",
       "      <td>1957-1969</td>\n",
       "      <td>3TM</td>\n",
       "    </tr>\n",
       "    <tr>\n",
       "      <th>195</th>\n",
       "      <td>196.0</td>\n",
       "      <td>Tobin Rote</td>\n",
       "      <td>56.8</td>\n",
       "      <td>1950-1966</td>\n",
       "      <td>4TM</td>\n",
       "    </tr>\n",
       "    <tr>\n",
       "      <th>196</th>\n",
       "      <td>197.0</td>\n",
       "      <td>Cotton Davidson</td>\n",
       "      <td>54.9</td>\n",
       "      <td>1954-1968</td>\n",
       "      <td>3TM</td>\n",
       "    </tr>\n",
       "    <tr>\n",
       "      <th>197</th>\n",
       "      <td>198.0</td>\n",
       "      <td>Mike Phipps</td>\n",
       "      <td>52.6</td>\n",
       "      <td>1970-1981</td>\n",
       "      <td>2TM</td>\n",
       "    </tr>\n",
       "    <tr>\n",
       "      <th>198</th>\n",
       "      <td>199.0</td>\n",
       "      <td>Frank Tripucka</td>\n",
       "      <td>52.2</td>\n",
       "      <td>1949-1963</td>\n",
       "      <td>4TM</td>\n",
       "    </tr>\n",
       "  </tbody>\n",
       "</table>\n",
       "<p>199 rows × 5 columns</p>\n",
       "</div>"
      ],
      "text/plain": [
       "      rank           player  passer_rating      years   tm\n",
       "0      1.0  Patrick Mahomes          108.7  2017-2020  kan\n",
       "1      2.0   Deshaun Watson          104.5  2017-2020  htx\n",
       "2      3.0    Aaron Rodgers          103.9  2005-2020  gnb\n",
       "3      4.0   Russell Wilson          101.7  2012-2020  sea\n",
       "4      5.0       Drew Brees           98.7  2001-2020  2TM\n",
       "..     ...              ...            ...        ...  ...\n",
       "194  195.0        Jack Kemp           57.3  1957-1969  3TM\n",
       "195  196.0       Tobin Rote           56.8  1950-1966  4TM\n",
       "196  197.0  Cotton Davidson           54.9  1954-1968  3TM\n",
       "197  198.0      Mike Phipps           52.6  1970-1981  2TM\n",
       "198  199.0   Frank Tripucka           52.2  1949-1963  4TM\n",
       "\n",
       "[199 rows x 5 columns]"
      ]
     },
     "execution_count": 4,
     "metadata": {},
     "output_type": "execute_result"
    }
   ],
   "source": [
    "# Converting html (came through as a list) to a DataFrame\n",
    "# Rate = Passer Rating\n",
    "# Tm = Team\n",
    "passer_rating_df = passer_rating[0]\n",
    "passer_rating_df\n",
    "\n",
    "# Removing '+' signs from player names\n",
    "passer_rating_df[\"Player\"] = passer_rating_df[\"Player\"].str.replace('+','')\n",
    "\n",
    "newRateDf = passer_rating_df.rename(columns={\"Rank\":\"rank\",\"Player\":\"player\",\n",
    "                                                   \"Rate\":\"passer_rating\",\"Years\":\"years\",\"Tm\":\"tm\"})\n",
    "newRateDf"
   ]
  },
  {
   "cell_type": "markdown",
   "metadata": {},
   "source": [
    "### Touchdowns Table"
   ]
  },
  {
   "cell_type": "code",
   "execution_count": null,
   "metadata": {},
   "outputs": [],
   "source": [
    "# Extracting table html from site using Pandas\n",
    "touchdowns = pd.read_html(url2)\n",
    "touchdowns"
   ]
  },
  {
   "cell_type": "code",
   "execution_count": null,
   "metadata": {},
   "outputs": [],
   "source": [
    "# Converting html (came through as a list) to a DataFrame\n",
    "# Tm = Team\n",
    "touchdowns_df = touchdowns[0]\n",
    "touchdowns_df \n",
    "\n",
    "# Removing '+' signs from player names\n",
    "touchdowns_df[\"Player\"] = touchdowns_df[\"Player\"].str.replace('+','')\n",
    "\n",
    "newTdDf = touchdowns_df.rename(columns={\"Rank\":\"rank\",\"Player\":\"player\",\n",
    "                                                   \"TD\":\"td\",\"Years\":\"years\",\"Tm\":\"tm\"})\n",
    "\n",
    "newTdDf"
   ]
  },
  {
   "cell_type": "markdown",
   "metadata": {},
   "source": [
    "### Interception Percentage Table"
   ]
  },
  {
   "cell_type": "code",
   "execution_count": null,
   "metadata": {},
   "outputs": [],
   "source": [
    "# Extracting table html from site using Pandas\n",
    "interception_percentage = pd.read_html(url3)\n",
    "interception_percentage"
   ]
  },
  {
   "cell_type": "code",
   "execution_count": null,
   "metadata": {},
   "outputs": [],
   "source": [
    "# Converting html (came through as a list) to a DataFrame\n",
    "# Int% = Interception Percentage\n",
    "# Tm = Team\n",
    "interception_percentage_df = interception_percentage[0]\n",
    "interception_percentage_df\n",
    "\n",
    "# Removing '+' signs from player names\n",
    "interception_percentage_df[\"Player\"] = interception_percentage_df[\"Player\"].str.replace('+','')\n",
    "\n",
    "newDf = interception_percentage_df.rename(columns={\"Rank\":\"rank\",\"Player\":\"player\",\n",
    "                                                   \"Int%\":\"int_percent\",\"Years\":\"years\",\"Tm\":\"tm\"})\n",
    "\n",
    "newDf"
   ]
  },
  {
   "cell_type": "markdown",
   "metadata": {},
   "source": [
    "### Yards per Attempt Table"
   ]
  },
  {
   "cell_type": "code",
   "execution_count": null,
   "metadata": {},
   "outputs": [],
   "source": [
    "# Extracting table html from site using Pandas\n",
    "yardsperattempt = pd.read_html(url4)\n",
    "yardsperattempt"
   ]
  },
  {
   "cell_type": "code",
   "execution_count": null,
   "metadata": {},
   "outputs": [],
   "source": [
    "# Converting html (came through as a list) to a DataFrame\n",
    "# Y/A = Yards per Attempt\n",
    "# Tm = Team\n",
    "yardsperattempt_df = yardsperattempt[0]\n",
    "yardsperattempt_df\n",
    "\n",
    "# Removing '+' signs from player names\n",
    "yardsperattempt_df[\"Player\"] = yardsperattempt_df[\"Player\"].str.replace('+','')\n",
    "\n",
    "newYpaDf = yardsperattempt_df.rename(columns={\"Rank\":\"rank\",\"Player\":\"player\",\n",
    "                                                   \"Y/A\":\"ypa\",\"Years\":\"years\",\"Tm\":\"tm\"})\n",
    "\n",
    "newYpaDf"
   ]
  },
  {
   "cell_type": "markdown",
   "metadata": {},
   "source": [
    "### Total Passing Yards Table"
   ]
  },
  {
   "cell_type": "code",
   "execution_count": null,
   "metadata": {},
   "outputs": [],
   "source": [
    "# Extracting table html from site using Pandas\n",
    "passing_yards = pd.read_html(url5)\n",
    "passing_yards"
   ]
  },
  {
   "cell_type": "code",
   "execution_count": null,
   "metadata": {},
   "outputs": [],
   "source": [
    "# Converting html (came through as a list) to a DataFrame\n",
    "# Tm = Team\n",
    "passing_yards_df = passing_yards[0]\n",
    "passing_yards_df\n",
    "\n",
    "# Removing '+' signs from player names\n",
    "passing_yards_df[\"Player\"] = passing_yards_df[\"Player\"].str.replace('+','')\n",
    "\n",
    "newYardsDf = passing_yards_df.rename(columns={\"Rank\":\"rank\",\"Player\":\"player\",\n",
    "                                                   \"Yds\":\"yds\",\"Years\":\"years\",\"Tm\":\"tm\"})\n",
    "\n",
    "\n",
    "newYardsDf"
   ]
  },
  {
   "cell_type": "markdown",
   "metadata": {},
   "source": [
    "### Completion Percentage Table"
   ]
  },
  {
   "cell_type": "code",
   "execution_count": null,
   "metadata": {},
   "outputs": [],
   "source": [
    "# Extracting table html from site using Pandas\n",
    "completion_percent = pd.read_html(url6)\n",
    "completion_percent"
   ]
  },
  {
   "cell_type": "code",
   "execution_count": null,
   "metadata": {},
   "outputs": [],
   "source": [
    "# Converting html (came through as a list) to a DataFrame\n",
    "# Tm = Team\n",
    "# Cmp% = Completion Percentage\n",
    "completion_percent_df = completion_percent[0]\n",
    "completion_percent_df\n",
    "\n",
    "# Removing '+' signs from player names\n",
    "completion_percent_df[\"Player\"] = completion_percent_df[\"Player\"].str.replace('+','')\n",
    "\n",
    "newCompDf = completion_percent_df.rename(columns={\"Rank\":\"rank\",\"Player\":\"player\",\n",
    "                                                   \"Cmp%\":\"comp_percent\",\"Years\":\"years\",\"Tm\":\"tm\"})\n",
    "\n",
    "\n",
    "\n",
    "newCompDf"
   ]
  },
  {
   "cell_type": "markdown",
   "metadata": {},
   "source": [
    "## Importing Data into SQL"
   ]
  },
  {
   "cell_type": "code",
   "execution_count": 7,
   "metadata": {},
   "outputs": [],
   "source": [
    "#Establishing a connecting to my SQL database\n",
    "rds_connection_string = f\"{user}:{password}@localhost:5432/superQBs_DB\"\n",
    "engine = create_engine(f'postgresql://{rds_connection_string}')"
   ]
  },
  {
   "cell_type": "code",
   "execution_count": 8,
   "metadata": {},
   "outputs": [
    {
     "data": {
      "text/plain": [
       "['sb_qbs',\n",
       " 'pass_td',\n",
       " 'int_percent',\n",
       " 'yards_per_attempt',\n",
       " 'pass_yards',\n",
       " 'comp_percent',\n",
       " 'sb_qb_stats',\n",
       " 'passer_rating']"
      ]
     },
     "execution_count": 8,
     "metadata": {},
     "output_type": "execute_result"
    }
   ],
   "source": [
    "#Checking to make sure all tables got read\n",
    "engine.table_names()"
   ]
  },
  {
   "cell_type": "code",
   "execution_count": 9,
   "metadata": {},
   "outputs": [
    {
     "data": {
      "text/html": [
       "<div>\n",
       "<style scoped>\n",
       "    .dataframe tbody tr th:only-of-type {\n",
       "        vertical-align: middle;\n",
       "    }\n",
       "\n",
       "    .dataframe tbody tr th {\n",
       "        vertical-align: top;\n",
       "    }\n",
       "\n",
       "    .dataframe thead th {\n",
       "        text-align: right;\n",
       "    }\n",
       "</style>\n",
       "<table border=\"1\" class=\"dataframe\">\n",
       "  <thead>\n",
       "    <tr style=\"text-align: right;\">\n",
       "      <th></th>\n",
       "      <th>rank</th>\n",
       "      <th>player</th>\n",
       "      <th>passer_rating</th>\n",
       "      <th>years</th>\n",
       "      <th>tm</th>\n",
       "    </tr>\n",
       "  </thead>\n",
       "  <tbody>\n",
       "    <tr>\n",
       "      <th>0</th>\n",
       "      <td>1.0</td>\n",
       "      <td>Patrick Mahomes</td>\n",
       "      <td>108.7</td>\n",
       "      <td>2017-2020</td>\n",
       "      <td>kan</td>\n",
       "    </tr>\n",
       "    <tr>\n",
       "      <th>1</th>\n",
       "      <td>2.0</td>\n",
       "      <td>Deshaun Watson</td>\n",
       "      <td>104.5</td>\n",
       "      <td>2017-2020</td>\n",
       "      <td>htx</td>\n",
       "    </tr>\n",
       "    <tr>\n",
       "      <th>2</th>\n",
       "      <td>3.0</td>\n",
       "      <td>Aaron Rodgers</td>\n",
       "      <td>103.9</td>\n",
       "      <td>2005-2020</td>\n",
       "      <td>gnb</td>\n",
       "    </tr>\n",
       "    <tr>\n",
       "      <th>3</th>\n",
       "      <td>4.0</td>\n",
       "      <td>Russell Wilson</td>\n",
       "      <td>101.7</td>\n",
       "      <td>2012-2020</td>\n",
       "      <td>sea</td>\n",
       "    </tr>\n",
       "    <tr>\n",
       "      <th>4</th>\n",
       "      <td>5.0</td>\n",
       "      <td>Drew Brees</td>\n",
       "      <td>98.7</td>\n",
       "      <td>2001-2020</td>\n",
       "      <td>2TM</td>\n",
       "    </tr>\n",
       "  </tbody>\n",
       "</table>\n",
       "</div>"
      ],
      "text/plain": [
       "   rank           player  passer_rating      years   tm\n",
       "0   1.0  Patrick Mahomes          108.7  2017-2020  kan\n",
       "1   2.0   Deshaun Watson          104.5  2017-2020  htx\n",
       "2   3.0    Aaron Rodgers          103.9  2005-2020  gnb\n",
       "3   4.0   Russell Wilson          101.7  2012-2020  sea\n",
       "4   5.0       Drew Brees           98.7  2001-2020  2TM"
      ]
     },
     "execution_count": 9,
     "metadata": {},
     "output_type": "execute_result"
    }
   ],
   "source": [
    "#Taking the Passer rating DF and loading it into my table, then checking to see if it worked\n",
    "newRateDf.to_sql(name='passer_rating', con=engine, if_exists='append', index=False)\n",
    "\n",
    "pd.read_sql_query('select * from passer_rating', con=engine).head()"
   ]
  },
  {
   "cell_type": "code",
   "execution_count": null,
   "metadata": {},
   "outputs": [],
   "source": [
    "#Taking the Pass TDs DF and loading it into my table, then checking to see if it worked\n",
    "newTdDf.to_sql(name='pass_td', con=engine, if_exists='append', index=False)\n",
    "\n",
    "pd.read_sql_query('select * from pass_td', con=engine).head()"
   ]
  },
  {
   "cell_type": "code",
   "execution_count": null,
   "metadata": {},
   "outputs": [],
   "source": [
    "#Taking the interception percent DF, loading it into SQL, then checking if it worked\n",
    "newDf.to_sql(name='int_percent', con=engine, if_exists='append', index=False)\n",
    "\n",
    "pd.read_sql_query('select * from int_percent', con=engine).head()"
   ]
  },
  {
   "cell_type": "code",
   "execution_count": null,
   "metadata": {},
   "outputs": [],
   "source": [
    "#Taking the Yards per attempt DF and loading it into my table, then checking to see if it worked\n",
    "newYpaDf.to_sql(name='yards_per_attempt', con=engine, if_exists='append', index=False)\n",
    "\n",
    "pd.read_sql_query('select * from yards_per_attempt', con=engine).head()"
   ]
  },
  {
   "cell_type": "code",
   "execution_count": null,
   "metadata": {},
   "outputs": [],
   "source": [
    "#Taking the total passing yards DF and adding it to my SQL table\n",
    "newYardsDf.to_sql(name='pass_yards', con=engine, if_exists='append', index=False)\n",
    "\n",
    "pd.read_sql_query('select * from pass_yards', con=engine).head()\n"
   ]
  },
  {
   "cell_type": "code",
   "execution_count": null,
   "metadata": {},
   "outputs": [],
   "source": [
    "#Taking the Completion Percentage DF and adding it to an SQL Table\n",
    "newCompDf.to_sql(name='comp_percent', con=engine, if_exists='append', index=False)\n",
    "\n",
    "pd.read_sql_query('select * from comp_percent', con=engine).head()\n"
   ]
  },
  {
   "cell_type": "code",
   "execution_count": null,
   "metadata": {},
   "outputs": [],
   "source": []
  }
 ],
 "metadata": {
  "kernelspec": {
   "display_name": "Python 3",
   "language": "python",
   "name": "python3"
  },
  "language_info": {
   "codemirror_mode": {
    "name": "ipython",
    "version": 3
   },
   "file_extension": ".py",
   "mimetype": "text/x-python",
   "name": "python",
   "nbconvert_exporter": "python",
   "pygments_lexer": "ipython3",
   "version": "3.6.10"
  }
 },
 "nbformat": 4,
 "nbformat_minor": 4
}
